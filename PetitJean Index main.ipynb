{
 "cells": [
  {
   "cell_type": "markdown",
   "id": "44cc35c0",
   "metadata": {},
   "source": [
    "**Student 1:** Gaëlle Loutfi #202102840\\\n",
    "**Student 2:** Dea Karam #202101925\n",
    "\n"
   ]
  },
  {
   "cell_type": "markdown",
   "id": "facab6ad",
   "metadata": {},
   "source": [
    "<h1 style=\"text-align:center; font-size:40px\">Coding Project - PetitJean Index </h1>"
   ]
  },
  {
   "cell_type": "markdown",
   "id": "2016ea35",
   "metadata": {},
   "source": [
    "***"
   ]
  },
  {
   "cell_type": "markdown",
   "id": "21072eb2",
   "metadata": {},
   "source": [
    "\n",
    "    \n",
    "* The Petitjean index is a popular topological descriptor, which is a type of shape descriptor that is calculated from the distance matrix of a molecular structure.\n",
    "\n",
    "* This index uses the longest through-graph distance between each atom in the structure using a variant of the all-pairs shortest path algorithm.\n",
    "\n",
    "* Petitjean defined the eccentricity of an atom in a molecular structure as the longest path between that atom and any other atom in the structure.\n",
    "    * radius (R) of a molecular structure as the smallest atom eccentricity\n",
    "    * diameter (D) as the largest eccentricity\n",
    "\n"
   ]
  },
  {
   "cell_type": "markdown",
   "id": "d2efcf11",
   "metadata": {},
   "source": [
    "The Petitjean Index can simply be calculated by the equation below: \n",
    "\n",
    "### I = (D-R)/R"
   ]
  },
  {
   "cell_type": "markdown",
   "id": "e378b54b",
   "metadata": {},
   "source": [
    "***"
   ]
  },
  {
   "cell_type": "markdown",
   "id": "f96ef414",
   "metadata": {},
   "source": [
    "<font color=green size=5px>**Part 1**</font>\n",
    "<div style='text-align:justify; font-size:16px'>\n"
   ]
  },
  {
   "cell_type": "markdown",
   "id": "25bdcb73",
   "metadata": {},
   "source": [
    "\n",
    "First of all, we need to extract the necessary information from the molfiles. \\\n",
    "For this purpose, we will define the function `extract_mol()`\\\n",
    "In this function we will proceed sequentially, in the following way:\n",
    "* First, we need to initialize an array, that we will name \"bonds\". \n",
    "* We will use this array to store pairs of integers from the molfile, these will represent the atom numbers which are connected by a bond. \n",
    "* Next, we initialize an empty string **Id** that will be later used to store the ID of the molecule, retrieved from CHEMBL.\n",
    "\n",
    "\n",
    "Now, we can open the molfile and start reading.\n",
    "* Each line in the molfile will be split into an element of the array **lines** using `splitlines()`\n",
    "*NB: The number of bonds and number of atoms are found in the 4th line of every molfile, at indices 1 and 0 respectively.\n",
    "* We initialize 2 variables **bondCount, atomCount** to store the number of bonds and atoms respectively.\n",
    "\n",
    "Next, we need a \"for loop:\", which will loop over each element in the **lines** array, representing the lines of the file.\\\n",
    "Then, each element of the array will be consequently split into another array, based on the position of the whitespaces (which is why we used .strip().split()).\\\n",
    "*Rq: we need to make sure that the first 3 lines are ignored, as well as the blank lines.\n",
    "\n",
    "Now, onto line 4 (which is the element number 3 in the **lines** array, as indexing starts from 0):\n",
    "* this line contains the number of atoms and bonds, both of which will be recorded in their respective variables, which we previously set to 0. \n",
    "* This function adds tuples containing the pairs of numbers found in the bonds section of the file. \n",
    "* All there is left to do is check if the line starts with the string \"CHEMBL\", which normally comes right before the ID of the molecule. If the string is found, we can now extract the ID and store it in its corresponding variable. \n",
    "\n",
    "After everything is properly executed, the function will return the bonds array, as well as the CHEMBL ID, and the atoms count value. \n"
   ]
  },
  {
   "cell_type": "code",
   "execution_count": null,
   "id": "dddeef39",
   "metadata": {},
   "outputs": [],
   "source": [
    "def extract_mol():\n",
    "    bonds=[]  \n",
    "    Id='' \n",
    "    mol_file_path=input(\"Enter your mol file path:\")\n",
    "    \n",
    "    with open(mol_file_path, 'r') as mol_file:\n",
    "        lines=mol_file.read().splitlines() \n",
    "                                           \n",
    "        bondCount=0   \n",
    "        atomCount=0\n",
    "        \n",
    "        for i in range(len(lines)):\n",
    "            elements=lines[i].strip().split()  \n",
    "            if(i==3):  \n",
    "                atomCount=int(elements[0].strip())\n",
    "                bondCount=int(elements[1].strip())\n",
    "            elif(i>3+atomCount and i<=3+atomCount+bondCount):\n",
    "                bonds.append((int(elements[0]),int(elements[1])))  \n",
    "            elif lines[i].startswith(\"CHEMBL\"): \n",
    "                Id=lines[i]\n",
    "            \n",
    "    return bonds,Id,atomCount"
   ]
  },
  {
   "cell_type": "markdown",
   "id": "ee05caa8",
   "metadata": {},
   "source": [
    "Next, we will be constructing a graph using the networkx library, that we imported as nx for brevity purposes. \n",
    "\n",
    "(NetworkX is a Python library for studying graphs and networks.)\n",
    "\n",
    "We defined a `construct_graph(bonds)` function, which takes the bonds list, returned by the previous function, as an input. \n",
    "* First, this function creates an empty undirected graph **\"G\"** using \"nx.Graph()\" \n",
    "* Next, it will add edges to the graph G based on the input list of bonds. This will be done using the the \"add_edges_from\" method. \n",
    "\n",
    "Finally, the function returns the constructed graph G.\n",
    "\n",
    "\n",
    "\n"
   ]
  },
  {
   "cell_type": "code",
   "execution_count": null,
   "id": "6ee7765e",
   "metadata": {},
   "outputs": [],
   "source": [
    "import networkx as nx\n",
    "\n",
    "def construct_graph(bonds):\n",
    "    G=nx.Graph()\n",
    "    G.add_edges_from(bonds)\n",
    "    return G"
   ]
  },
  {
   "cell_type": "markdown",
   "id": "3b45b7ee",
   "metadata": {},
   "source": [
    "Before moving on to the following cell, it is important to note that while we already have imported networkx, for this function to work it is also necessary to import numpy as well. \n",
    "\n",
    "(NumPy is a library for the Python programming language. Used for adding support for large, multi-dimensional arrays and matrices, along with a large collection of high-level mathematical functions to operate on these arrays.)\n",
    "\n",
    "Now we define the function `shortest_path(G, atomCount)`, which we will use to compute the shortest path lengths between all pairs of nodes (representing the atoms) in the graph. This function will return a 2D matrix representing these lengths. \n",
    "\n",
    "This function takes 2 inputs:\n",
    "1. G, which is the networkx graph returned through the previously defined `construct_graph(bonds)` function. \n",
    "1. atomCount, the number of atoms returned from `extract_mol()`\n",
    "\n",
    "\n",
    "* The function will start by initializing a 2D matrix filled with zeroes. The Dimensions of this matrix will be **atomCount by atomCount**\n",
    "* Next, we have 2 for loops:\n",
    "    - in the outer one, i ranges from one to atomCount, which is the number of atoms, inclusive. \n",
    "    - in the inner one, j has the same range. \n",
    "* these nested for loops will be used to iterate over the pairs of nodes (i,j) representing any 2 atoms.\n",
    "* while iterating over these pairs of atoms, it will calculate the shortest path length between the 2 atoms involved, using **nx.shortest_path** \n",
    "* it is important to note that we subtract 1 from the the computed length of the shortest path as the nx.shortest_path() function returns a list of nodes from the source to the target(inclusive) and the number of nodes is 1 more than the number of edges.\n",
    "* Each \"shortest path length\" will be stored in the corresponding cell of the matrix. \n",
    "\n",
    "After the entire matrix **matrix** is filled, we will use numpy.delete to remove the first row and column of the matrix as no atoms are numbered 0 and the value at those indices remains 0.\n",
    "\n",
    "After all is done, the function will return the matrix containing the shortest path length between the atoms. \n",
    "\n"
   ]
  },
  {
   "cell_type": "code",
   "execution_count": null,
   "id": "ae1781e5",
   "metadata": {},
   "outputs": [],
   "source": [
    "import numpy\n",
    "\n",
    "def shortest_path(G,atomCount):\n",
    "    matrix=[[0]*atomCount for _ in range(atomCount)]\n",
    "    for i in range(1,atomCount):\n",
    "        for j in range(1,atomCount):\n",
    "            shortestPathLen=len(nx.shortest_path(G,source=i,target=j))-1\n",
    "            matrix[i][j]=shortestPathLen\n",
    "    \n",
    "    matrix = numpy.delete(matrix, (0), axis=0) \n",
    "    matrix = numpy.delete(matrix, [0], 1)          \n",
    "\n",
    "    return matrix"
   ]
  },
  {
   "cell_type": "markdown",
   "id": "39c273fa",
   "metadata": {},
   "source": [
    "\n",
    "In the following cell, we are looking to calculate the eccentricities. For this purpose we have defined a function `longest_shortest_paths(matrix)`, that takes a matrix as an input. Note that the matrix used as input in this function is the one returned by the`shortest_path(G,atomCount)` function we have defined in the previous cell. \n",
    "\n",
    "*The purpose of this function is to compute the eccentricity of each node in the graph (the longest shortest path of every atom).*\n",
    "\n",
    "Back to our function. As we previously mentioned, this function takes a matrix of the form **matrix[i][j]** as an input. This matrix represents the shortest path length between two nodes/atoms **i** and **j**.\n",
    "\n",
    "The function begins by initializing a variable N, which corresponds to the length of the input matrix. This length refers to the number of nodes in the graph.\n",
    "\n",
    "Next, we will initialize the list **eccentricities**. All of its elements will be initially set to 0. We will consequently be using this list to store the eccentricities of each node/atom. \n",
    "\n",
    "Now onto the nested *for loop* of range N (goes from 0 to N-1):\n",
    "* Inside the outer loop, we will initalize a variable **maxx** to 0. We will be using it subsequently to track the maximum shortest path from a node i to any other node in the graph. \n",
    "* The inner loop iterates over all the other nodes j, and for each pair of i and j nodes, we comapre matrix[i][j] to maxx.\n",
    "* This is done to update the value of **maxx** with the maximum shortest path length for a certain i node.\n",
    "* Finally, we will assign the value of **maxx** as the eccentricity of the node i in the eccentricities list. \n",
    "\n",
    "When all of this is done, after iterating through all the nodes, the function will return the array **eccentricities**, which contains the eccentricity of each node(atom) in the graph represented by the original input matrix. "
   ]
  },
  {
   "cell_type": "code",
   "execution_count": null,
   "id": "4a0dafd9",
   "metadata": {},
   "outputs": [],
   "source": [
    "def longest_shortest_paths(matrix):\n",
    "    \n",
    "    N=len(matrix)\n",
    "    eccentricities = [0]*N\n",
    "    for i in range(N):\n",
    "        maxx=0\n",
    "        for j in range(N):\n",
    "            maxx=max(matrix[i][j],maxx)\n",
    "        eccentricities[i]=maxx\n",
    "    return eccentricities"
   ]
  },
  {
   "cell_type": "markdown",
   "id": "45148a34",
   "metadata": {},
   "source": [
    "\n",
    "Now onto the following cell. We have defined a function `find_D_R(eccentricities)`, which takes the **eccentricities** array as an input in order to find the *Diameter* **D** and the *Radius* **R**, which have already been mentioned in the introduction of the topic. \\\n",
    "Nevertheless, to reemphasize on their importance in calculating the petitjean index:\n",
    "* The Diameter will represent the largest atom eccentricity among all nodes in the graph, which is the maximum longest shortest path distance between any 2 atoms in the graph.\n",
    "* The Radius of the molecular structure will be the smallest or minimum eccentricity among all the atoms, hence the minimum longest shortest  path in the graph.\n",
    "* These are the main 2 components of the formula needed to calculate the petitjean index, which we will cover in the next cell. \n",
    "\n",
    "By applying the **max** and **min** functions on the **eccentricities** list, our defined function will simply return the Diameter and the Radius. "
   ]
  },
  {
   "cell_type": "code",
   "execution_count": null,
   "id": "114406c7",
   "metadata": {},
   "outputs": [],
   "source": [
    "def find_D_R(eccentricities):\n",
    "    D=max(eccentricities)\n",
    "    R=min(eccentricities)\n",
    "    return D,R"
   ]
  },
  {
   "cell_type": "markdown",
   "id": "0b2caf54",
   "metadata": {},
   "source": [
    "In Order to create the Graphical User Interface used to display our molecules, we have implemented the following: \n",
    "\n",
    "First of all, let us state the purpose of our imported libraries and functions:\n",
    "* **tkinter** is used to create the GUI. \n",
    "* **matplotlib.pyplot** is used to create plots and figures.\n",
    "* **FigureCanvasTkAgg** is used to embed a Matplotlib Figure into a Tkinter canvas. In other words, we are using it to integrate the Matplotlib's plotting capabilities into our graphical user interface. \n",
    "\n",
    "After importing what is needed, we will create the function that will be used to create this project's GUI. The function will be defined as `GUI(G,D,R,Id,PetitJeanIndex)`. \\\n",
    "This function, implemented in the following cell, takes as input the following parameters:\n",
    "1. The graph *G* returned from the `construct_graph(bonds)` function.\n",
    "1. The diameter *D* and radius *R* returned from the `find_D_R(eccentricities)` function. \n",
    "1. The ID *Id* returned from the `extract_mol()` function. \n",
    "1. The Petitjean index *PetitJeanIndex* that we will later calculate using the previously mentioned formula. \n",
    "\n",
    "In the function, we first start by creating a Tkinter root window of size 800x600 pixels, and set the title of this window as \"PetitJean Index\". The molecule representation will be displayed in this window. \n",
    "\n",
    "Now, we move on to creating the label widget. The text is based on the \"Id\" variable. We are using an Arial Bold font. Then we pack it into the GUI. We set **padx** and **pady** to 20 as it adds 20 pixels from the right, left, top and bottom of the label.\n",
    "\n",
    "Next we will create another label. This one will be based on the values of *D*, *R* and the *PetitJeanIndex*. This label has a slightly smaller Arail font than the previous one. It will be packed into the root window as well. \n",
    "\n",
    "Now, a Matplotlib figure will be created with a specified size of 15 by 15. In order to compute the positions of the nodes (atoms) in the graph, the Kamada-Kawai layout from NetworkX will be used, which we found to be the most suitable for our purpose. The scale parameter is set to 5, this adjusts the spacing between the nodes.\n",
    " \n",
    "*The Kamada-Kawai layout is an algorithm that attempts to position the nodes in a graph in such a way to minimize the total energy of the system, as in: connected nodes are close, and unrelated nodes are distant. This creates a visually pleasing representation of the graph*.\n",
    "\n",
    "\n",
    "Then, using the **nx.draw** function, we will present the graph with the node postions computed by the layout algorithm on the Matplotlib figure. The nodes in this graph will be unlabeled, colored in blue, and of size 500. \n",
    "\n",
    "A **FigureCanvasTkAgg** object will be created taking as input **fig**, the MAtplotlib figure, and **root**, the tkinter root window, both of which we have previously gotten. This is used to embed the Matplotlib figure into the GUI. \n",
    "\n",
    "Now, we just pack the canvas widget into the Tkinter GUI, in order to display the Matplotlib figure (representing the molecule) on the Tkinter window. \n",
    "\n",
    "Finally, the Tkinter GUI is displayed using the main loop. \n"
   ]
  },
  {
   "cell_type": "code",
   "execution_count": null,
   "id": "1b0622a4",
   "metadata": {},
   "outputs": [],
   "source": [
    "import tkinter as tk\n",
    "from tkinter import ttk\n",
    "import matplotlib.pyplot as plt\n",
    "from matplotlib.backends.backend_tkagg import FigureCanvasTkAgg\n",
    "\n",
    "def GUI(G,D,R,Id,PetitJeanIndex):\n",
    "    root = tk.Tk()\n",
    "    root.geometry(\"800x600\")\n",
    "    root.title(\"PetitJean Index\")\n",
    "    label=tk.Label(root,text=Id,font=(\"Arial\",20,'bold'))\n",
    "    label.pack(padx=20,pady=20)\n",
    "    text1=\"I = (\"+ str(D)+\" - \"+str(R)+\") /\"+ str(R) + \" = \"+ str(PetitJeanIndex)\n",
    "    label =tk.Label(root,text=text1,font=(\"Arial\",18))\n",
    "    label.pack(pady=30)\n",
    "    fig, ax = plt.subplots(figsize=(15, 15))\n",
    "    pos = nx.kamada_kawai_layout(G,scale=5)\n",
    "    nx.draw(G, pos, with_labels=False, node_color='blue', node_size=500,ax=ax)\n",
    "    canvas = FigureCanvasTkAgg(fig, master=root)\n",
    "    canvas_widget = canvas.get_tk_widget()\n",
    "    canvas_widget.pack()\n",
    "    root.mainloop()"
   ]
  },
  {
   "cell_type": "markdown",
   "id": "0e40fa25",
   "metadata": {},
   "source": [
    "**Now, by applying all of these function, we move onto actually calculating the Petitjean index for a mol file**\n",
    "\n",
    "1. First we use the `extract_mol()` function to extract the useful data found in the file. We get the bonds as an arrray, the CHEMBL ID of the molecule, and the value of the number of atoms. \n",
    "1. Now we can construct the graph **G** using the `contstruct_graph(bonds)` function taking as input the previously returned **bonds** array. \n",
    "1. This, along with the atoms count, enables us to construct the matrix **matrix** that will store all shortest paths in the graph. We are able to do this using the `shortest_path(G,atomCount)` function. It is important to note here that we need to increment the number of atoms by one as we have to keep in mind that no atom is numbered 0.\n",
    "1. Furthermore, we use this matrix to get the list of eccentricities **eccentricities** using the `longest_shortest_paths(matrix)` function. \n",
    "1. Now, all we have to do is to get the diameter and the radius from this array using the `find_D_R(ecccentricities)` function. \n",
    "\n",
    "Once all of this is done we can simply apply the Formula **(D-R)/R** to get the Petitjean Index. \n",
    "\n",
    "Onto the display, we will be printing the ID of the molecule, followed by the petitjean index and the graphical representation of the molecule. \n",
    "\n",
    "The Graphical Representation of the atoms and bonds as nodes and edges will be displayed using the `GUI(G,D,R,Id,PetitJeanIndex)` function."
   ]
  },
  {
   "cell_type": "code",
   "execution_count": null,
   "id": "57033ac0",
   "metadata": {},
   "outputs": [],
   "source": [
    "bonds,Id,atomCount=extract_mol()\n",
    "G=construct_graph(bonds)\n",
    "matrix=shortest_path(G,atomCount+1)  \n",
    "eccentricities=longest_shortest_paths(matrix)\n",
    "D,R=find_D_R(eccentricities)\n",
    "PetitJeanIndex= (D-R)/R\n",
    "\n",
    "print(Id)\n",
    "\n",
    "print(\"PetitJean Index= (\",D,\"-\",R,\")/\",R,\"=\", PetitJeanIndex)\n",
    "\n",
    "GUI(G,D,R,Id,PetitJeanIndex)\n"
   ]
  },
  {
   "cell_type": "markdown",
   "id": "b6e8d7b1",
   "metadata": {},
   "source": [
    "<font color=green size=5px>**Part 2**</font>\n",
    "<div style='text-align:justify; font-size:16px'>\n",
    "\n",
    "In the previous part, we covered the extraction of the structure as well as displaying it in a graph form and the calculation of its Petitjean index from a molfile. \n",
    "***\n",
    "In the following, we will do the same, but for an SDF format type of file. \n",
    " \n",
    "We start by defining the function `extract_sdf()`. This function will extract the necessary infromation about the molecules (bonds, IDs, atom count).\n",
    "It works in the following way:\n",
    "* First we initialize empty lists to store the atom count of each molecule in the file, as well as the array of bonds for each molecule and its ID. \n",
    "* Next, the user will be asked to enter a valid path for the SDF file they wish to use. \n",
    "* The SDF file entered by the user will be opened and read as a list of lines **lines**\n",
    "* Now, we will initialize an additional array and variables to store the information about the bonds, line count (keeps track of the current line number), atom count, and bond count. \n",
    "\n",
    "Next we will use a *for loop* to iterate through the lines of our SDF file.\\ \n",
    "Each line will be stripped of the whitespaces at its beginning and its end. \n",
    "Then, it will be split into a list of elements. \n",
    "\n",
    "In the loop, we need to check if the line begins with four consecutive \\$ characters. These will indicate that we moved from one molecule to another.\\\n",
    "So, the information about the previous molecule will be added to the **bonds** list by appending the moleculeBonds array to it.\\\n",
    "Then, we reset the **moleculeBonds** array to store the bonds of the next molecule. Now all that is left to do is reset the lineCount to 0 as well. Continue is used to skip the line lineCount+=1 as the lineCount of the next molecule should start by 0 and not 1.\n",
    "\n",
    "When we get to the line which contains the counts of atoms and bonds (lineCount==3), we extract the values and store them respectively in the variables **atomCount** and **bondCount**. Next we will add the atomCount and append it to the **atomCounts** list. \n",
    "\n",
    "Now, onto the section where the bond information is stored (between line 4 and the line (4+atomCount+bondCount)). Each of the lines in this section of the file will contain two the number of two atoms that are connected by a bond. These will be stored as integers in the tuple **(atom1, atom2)**. Next, this bond information will be appended to the **moleculeBonds** list. \n",
    "\n",
    "It is important to note that in an sdf file, the lines that start with the string *\"CHEMBL\"* are the ones that contain the ID of the molecule, similiarily to what we have previously seen in the mol file section. Once this string is encountered, it will be used as a signal to store the ID of the molecule in the **moleculeId** variable. Each ID will be added to the **Ids** list. \n",
    "\n",
    "NB: After each line is processed, the lineCount is incremented by 1. \n",
    "\n",
    "After everything is done, the function will return the arrays containing the information about the Bonds, IDs, and atom counts, stored respectively in **bonds**, **Ids**, and **atomCounts**, for all the molecules in the SDF file. "
   ]
  },
  {
   "cell_type": "code",
   "execution_count": null,
   "id": "9eb18b54",
   "metadata": {},
   "outputs": [],
   "source": [
    "def extract_sdf():\n",
    "    \n",
    "    atomCounts=[] \n",
    "    bonds=[]  \n",
    "    Ids=[]  \n",
    "    sdf_path=input(\"Enter the sdfile path: \")\n",
    "    with open(sdf_path,'r') as sd_file:\n",
    "        lines=sd_file.read().splitlines()\n",
    "        \n",
    "        moleculeBonds=[]  \n",
    "        lineCount=0  \n",
    "        atomCount=0\n",
    "        bondCount=0\n",
    "        for line in lines:\n",
    "            elements=line.strip().split()\n",
    "            if line.startswith(\"$$$$\"):\n",
    "                bonds.append(moleculeBonds)\n",
    "                moleculeBonds=[]  \n",
    "                lineCount=0 \n",
    "                continue  \n",
    "            elif lineCount==3:\n",
    "                atomCount=int(elements[0].strip())\n",
    "                bondCount=int(elements[1].strip())\n",
    "                atomCounts.append(atomCount)\n",
    "            elif lineCount>3+atomCount and lineCount<=3+atomCount+bondCount:\n",
    "                atom1=int(elements[0].strip())\n",
    "                atom2=int(elements[1].strip())\n",
    "                moleculeBonds.append((atom1,atom2))\n",
    "            elif line.startswith(\"CHEMBL\"):\n",
    "                moleculeId=line\n",
    "                Ids.append(moleculeId)\n",
    "            lineCount+=1\n",
    "                \n",
    "    return bonds,Ids,atomCounts"
   ]
  },
  {
   "cell_type": "markdown",
   "id": "78e2a225",
   "metadata": {},
   "source": [
    "**Now, by applying the preceeding functions, we move onto actually calculating the Petitjean index for an SDF file**\n",
    "\n",
    "First, we use the `extract_sdf()` function to retrieve the necessary information from each molecule, which will be stored in the **bonds**, **Ids**, and **atomCounts** arrays. \n",
    "\n",
    "Next, we iterate over each molecule:\n",
    "* First, we get the atom count (remember that we increment by one because indexing starts from 0).\n",
    "* Next, we will construct a graph for the molecule whose bonds tuples are stored in position i in the bonds array. This will be done using the `construct_graph(bonds[i])` function. \n",
    "* Now, we calculate the eccentricities using the `longest_shortest_paths(matrix)` function. These will be used to get the radius and the diameter by being used as inputs for the `find_D_R(eccentricities)` function.\n",
    "* Just like we did for the mol files, we will simply use the Radius and Diameter to calculate the petitJean index using the corresponding formula ((D-R)/R). \n",
    "\n",
    "All that is left to do is simply print the molecule ID for each molecule as well as the calculated Petitjean Index. \n",
    "\n",
    "The function `GUI(G)` will be used to visualize the graph G representing the structure of every molecule. \n"
   ]
  },
  {
   "cell_type": "code",
   "execution_count": null,
   "id": "8e18b80f",
   "metadata": {},
   "outputs": [],
   "source": [
    "bonds,Ids,atomCounts=extract_sdf()\n",
    "for i in range(len(bonds)):\n",
    "    atomCount=atomCounts[i]+1\n",
    "    G=construct_graph(bonds[i])\n",
    "    matrix=shortest_path(G,atomCount)\n",
    "    eccentricities=longest_shortest_paths(matrix)\n",
    "    \n",
    "    D,R=find_D_R(eccentricities)\n",
    "    PetitJeanIndex= (D-R)/R\n",
    "    print(Ids[i])\n",
    "    print(\"PetitJean Index= (\",D,\"-\",R,\")/\",R,\"=\", PetitJeanIndex,end='\\n\\n')\n",
    "    GUI(G,D,R,Ids[i],PetitJeanIndex)"
   ]
  },
  {
   "cell_type": "markdown",
   "id": "dc6c6649",
   "metadata": {},
   "source": [
    "# END"
   ]
  }
 ],
 "metadata": {
  "kernelspec": {
   "display_name": "Python 3 (ipykernel)",
   "language": "python",
   "name": "python3"
  },
  "language_info": {
   "codemirror_mode": {
    "name": "ipython",
    "version": 3
   },
   "file_extension": ".py",
   "mimetype": "text/x-python",
   "name": "python",
   "nbconvert_exporter": "python",
   "pygments_lexer": "ipython3",
   "version": "3.9.12"
  }
 },
 "nbformat": 4,
 "nbformat_minor": 5
}
